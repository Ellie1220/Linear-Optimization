{
  "nbformat": 4,
  "nbformat_minor": 0,
  "metadata": {
    "colab": {
      "provenance": [],
      "include_colab_link": true
    },
    "kernelspec": {
      "name": "python3",
      "display_name": "Python 3"
    },
    "language_info": {
      "name": "python"
    }
  },
  "cells": [
    {
      "cell_type": "markdown",
      "metadata": {
        "id": "view-in-github",
        "colab_type": "text"
      },
      "source": [
        "<a href=\"https://colab.research.google.com/github/Ellie1220/Linear-Optimization/blob/main/Assignment_1_Linear_Optimization_ISOM_839_aichenglu.ipynb\" target=\"_parent\"><img src=\"https://colab.research.google.com/assets/colab-badge.svg\" alt=\"Open In Colab\"/></a>"
      ]
    },
    {
      "cell_type": "markdown",
      "source": [
        "## Assignment 1: Linear Optimization"
      ],
      "metadata": {
        "id": "SqO_bUa0WZlG"
      }
    },
    {
      "cell_type": "code",
      "source": [
        "%pip install gurobipy"
      ],
      "metadata": {
        "colab": {
          "base_uri": "https://localhost:8080/"
        },
        "id": "1Gnvpw9wID3A",
        "outputId": "6acc292f-74ad-475d-b234-779dca6e84bb"
      },
      "execution_count": null,
      "outputs": [
        {
          "output_type": "stream",
          "name": "stdout",
          "text": [
            "Collecting gurobipy\n",
            "  Downloading gurobipy-11.0.0-cp310-cp310-manylinux2014_x86_64.manylinux_2_17_x86_64.whl (13.4 MB)\n",
            "\u001b[2K     \u001b[90m━━━━━━━━━━━━━━━━━━━━━━━━━━━━━━━━━━━━━━━━\u001b[0m \u001b[32m13.4/13.4 MB\u001b[0m \u001b[31m46.8 MB/s\u001b[0m eta \u001b[36m0:00:00\u001b[0m\n",
            "\u001b[?25hInstalling collected packages: gurobipy\n",
            "Successfully installed gurobipy-11.0.0\n"
          ]
        }
      ]
    },
    {
      "cell_type": "markdown",
      "source": [
        "### Exercise 7.7 from the textbook (Data Models and Decisions)"
      ],
      "metadata": {
        "id": "Clyh187xWleQ"
      }
    },
    {
      "cell_type": "code",
      "execution_count": null,
      "metadata": {
        "id": "E3kLzQ_-WPcq"
      },
      "outputs": [],
      "source": [
        "# Your answer: Modeling and solving using Gurobi Python\n",
        "from itertools import product\n",
        "from math import sqrt\n",
        "import gurobipy as gp\n",
        "from gurobipy import GRB"
      ]
    },
    {
      "cell_type": "code",
      "source": [
        "earnings={'W':35,'X':47,'Y':60,'Z':140}\n",
        "supplies = {'Aluminum': 600, 'Copper': 400, 'Magnesium': 800}\n",
        "proportions = {'W': {'Aluminum': 0.30, 'Copper': 0.30, 'Magnesium': 0.40},\n",
        "        'X': {'Aluminum': 0.40, 'Copper': 0.10, 'Magnesium': 0.50},\n",
        "        'Y': {'Aluminum': 0.10, 'Copper': 0.25, 'Magnesium': 0.65},\n",
        "        'Z': {'Aluminum': 0.15, 'Copper': 0.40, 'Magnesium': 0.45}}"
      ],
      "metadata": {
        "id": "SVY14gQ6R21f"
      },
      "execution_count": null,
      "outputs": []
    },
    {
      "cell_type": "code",
      "source": [
        "model = gp.Model(\"AlloyOptimization\")\n",
        "\n",
        "\n",
        "production = {}\n",
        "for alloy in earnings.keys():\n",
        "    production[alloy] = model.addVar(name=f\"{alloy}_production\")\n",
        "\n",
        "# Objective function\n",
        "model.setObjective(gp.quicksum(earnings[alloy] * production[alloy] for alloy in earnings.keys()), GRB.MAXIMIZE)\n",
        "\n",
        "# Supply constraints\n",
        "for metal in supplies.keys():\n",
        "    model.addConstr(gp.quicksum(proportions[alloy][metal] * production[alloy] for alloy in earnings.keys()) <= supplies[metal],\n",
        "                     name=f\"{metal}_supply\")\n",
        "\n",
        "# Optimize the model\n",
        "model.optimize()\n",
        "\n",
        "# Print the optimal solution\n",
        "if model.status == GRB.OPTIMAL:\n",
        "    print(\"Optimal solution\")\n",
        "    for alloy in earnings.keys():\n",
        "        print(f\"Amount of alloy {alloy}: {production[alloy].x} tons\")\n",
        "    print(f\"Total earnings: ${model.objVal}\")\n",
        "else:\n",
        "    print(\"Optimization did not converge.\")"
      ],
      "metadata": {
        "colab": {
          "base_uri": "https://localhost:8080/"
        },
        "id": "Q2QokSAFTMpv",
        "outputId": "9fb90db3-1abd-438a-925a-8328fbe1fc9c"
      },
      "execution_count": null,
      "outputs": [
        {
          "output_type": "stream",
          "name": "stdout",
          "text": [
            "Gurobi Optimizer version 11.0.0 build v11.0.0rc2 (linux64 - \"Ubuntu 22.04.3 LTS\")\n",
            "\n",
            "CPU model: Intel(R) Xeon(R) CPU @ 2.20GHz, instruction set [SSE2|AVX|AVX2]\n",
            "Thread count: 1 physical cores, 2 logical processors, using up to 2 threads\n",
            "\n",
            "Optimize a model with 3 rows, 4 columns and 12 nonzeros\n",
            "Model fingerprint: 0xa5b1691c\n",
            "Coefficient statistics:\n",
            "  Matrix range     [1e-01, 7e-01]\n",
            "  Objective range  [4e+01, 1e+02]\n",
            "  Bounds range     [0e+00, 0e+00]\n",
            "  RHS range        [4e+02, 8e+02]\n",
            "Presolve time: 0.01s\n",
            "Presolved: 3 rows, 4 columns, 12 nonzeros\n",
            "\n",
            "Iteration    Objective       Primal Inf.    Dual Inf.      Time\n",
            "       0    2.8200000e+32   6.000000e+30   2.820000e+02      0s\n",
            "       3    1.5083871e+05   0.000000e+00   0.000000e+00      0s\n",
            "\n",
            "Solved in 3 iterations and 0.02 seconds (0.00 work units)\n",
            "Optimal objective  1.508387097e+05\n",
            "Optimal solution\n",
            "Amount of alloy W: 0.0 tons\n",
            "Amount of alloy X: 903.2258064516129 tons\n",
            "Amount of alloy Y: 0.0 tons\n",
            "Amount of alloy Z: 774.1935483870967 tons\n",
            "Total earnings: $150838.70967741936\n"
          ]
        }
      ]
    },
    {
      "cell_type": "markdown",
      "source": [
        "What actions would you recommend based on the optimal solution and the shadow price information?\n",
        "\n",
        "Amount of alloy W: 0.0 tons\n",
        "\n",
        "Amount of alloy X: 903.2258064516129 tons\n",
        "\n",
        "Amount of alloy Y: 0.0 tons\n",
        "\n",
        "Amount of alloy Z: 774.1935483870967 tons\n",
        "\n",
        "Total earnings: $150838.70967741936"
      ],
      "metadata": {
        "id": "CDdBXVBza_wH"
      }
    },
    {
      "cell_type": "markdown",
      "source": [
        "### Exercise 7.11 from the textbook (Data Models and Decisions)"
      ],
      "metadata": {
        "id": "0UnmHOv8XGAd"
      }
    },
    {
      "cell_type": "code",
      "source": [
        "import gurobipy as gp\n",
        "from gurobipy import GRB\n",
        "\n",
        "# Data\n",
        "plants = ['Amherst', 'Providence']\n",
        "customers = [1, 2, 3, 4, 5]\n",
        "production_costs = {'Amherst': [5, 3, 2, 6, 6],\n",
        "                    'Providence': [7, 3, 3, 6, 7]}\n",
        "transportation_costs = {'Amherst': [2, 3, 2, 6, 6],\n",
        "             'Providence': [7, 3, 3, 6, 7]}\n",
        "demands = [60, 100, 110, 50, 80]\n",
        "capacities = {'Amherst': 200, 'Providence': 210}\n",
        "\n",
        "# Create a new Gurobi model\n",
        "model = gp.Model(\"WonderPlastics\")\n",
        "\n",
        "# Decision variables\n",
        "x = {}\n",
        "for plant in plants:\n",
        "    for customer in customers:\n",
        "        x[plant, customer] = model.addVar(name=f\"x_{plant}_{customer}\", vtype=GRB.CONTINUOUS, lb=0)  # Ensure non-negativity\n",
        "\n",
        "# Objective function\n",
        "model.setObjective(gp.quicksum((production_costs[plant][customer-1] + transportation_costs[plant][customer-1]) * x[plant, customer]\n",
        "                                for plant in plants for customer in customers), GRB.MINIMIZE)\n",
        "\n",
        "# Constraints\n",
        "for plant in plants:\n",
        "    model.addConstr(gp.quicksum(x[plant, customer] for customer in customers) <= capacities[plant], name=f\"capacity_{plant}\")\n",
        "\n",
        "for customer, demand in zip(customers, demands):\n",
        "    model.addConstr(gp.quicksum(x[plant, customer] for plant in plants) == demand, name=f\"demand_{customer}\")\n",
        "\n",
        "# Optimize the model\n",
        "model.optimize()\n",
        "\n",
        "# Print the optimal solution\n",
        "if model.status == GRB.OPTIMAL:\n",
        "    print(\"Optimal solution found!\")\n",
        "    for plant in plants:\n",
        "        for customer in customers:\n",
        "            print(f\"Units from {plant} to customer {customer}: {x[plant, customer].x}\")\n",
        "    print(f\"Total cost: ${model.objVal}\")\n",
        "else:\n",
        "    print(\"Optimization did not converge.\")\n"
      ],
      "metadata": {
        "colab": {
          "base_uri": "https://localhost:8080/"
        },
        "id": "lSVCy2l1kl1O",
        "outputId": "22884a49-1e61-460b-ac2d-848f8643ab1a"
      },
      "execution_count": null,
      "outputs": [
        {
          "output_type": "stream",
          "name": "stdout",
          "text": [
            "Gurobi Optimizer version 11.0.0 build v11.0.0rc2 (linux64 - \"Ubuntu 22.04.3 LTS\")\n",
            "\n",
            "CPU model: Intel(R) Xeon(R) CPU @ 2.20GHz, instruction set [SSE2|AVX|AVX2]\n",
            "Thread count: 1 physical cores, 2 logical processors, using up to 2 threads\n",
            "\n",
            "Optimize a model with 7 rows, 10 columns and 20 nonzeros\n",
            "Model fingerprint: 0x975f3941\n",
            "Coefficient statistics:\n",
            "  Matrix range     [1e+00, 1e+00]\n",
            "  Objective range  [4e+00, 1e+01]\n",
            "  Bounds range     [0e+00, 0e+00]\n",
            "  RHS range        [5e+01, 2e+02]\n",
            "Presolve removed 6 rows and 7 columns\n",
            "Presolve time: 0.01s\n",
            "Presolved: 1 rows, 4 columns, 4 nonzeros\n",
            "\n",
            "Iteration    Objective       Primal Inf.    Dual Inf.      Time\n",
            "       0    3.0200000e+03   7.500000e+00   0.000000e+00      0s\n",
            "       1    3.1200000e+03   0.000000e+00   0.000000e+00      0s\n",
            "\n",
            "Solved in 1 iterations and 0.02 seconds (0.00 work units)\n",
            "Optimal objective  3.120000000e+03\n",
            "Optimal solution found!\n",
            "Units from Amherst to customer 1: 60.0\n",
            "Units from Amherst to customer 2: 0.0\n",
            "Units from Amherst to customer 3: 60.0\n",
            "Units from Amherst to customer 4: 0.0\n",
            "Units from Amherst to customer 5: 80.0\n",
            "Units from Providence to customer 1: 0.0\n",
            "Units from Providence to customer 2: 100.0\n",
            "Units from Providence to customer 3: 50.0\n",
            "Units from Providence to customer 4: 50.0\n",
            "Units from Providence to customer 5: 0.0\n",
            "Total cost: $3120.0\n"
          ]
        }
      ]
    },
    {
      "cell_type": "code",
      "source": [
        "import gurobipy as gp\n",
        "from gurobipy import GRB\n",
        "\n",
        "# Data\n",
        "plants = ['Amherst', 'Providence']\n",
        "customers = [1, 2, 3, 4, 5]\n",
        "production_costs = {'Amherst': [5, 3, 2, 6, 6],\n",
        "                    'Providence': [7, 3, 3, 6, 7]}\n",
        "transportation_costs = {'Amherst': [2, 3, 2, 6, 6],\n",
        "                        'Providence': [7, 3, 3, 6, 7]}\n",
        "demands = [60, 100, 110, 50, 80]\n",
        "capacities = {'Amherst': 200, 'Providence': 210}\n",
        "\n",
        "# Create a new Gurobi model\n",
        "model = gp.Model(\"WonderPlastics\")\n",
        "\n",
        "# Decision variables\n",
        "x = {}\n",
        "for plant in plants:\n",
        "    for customer in customers:\n",
        "        x[plant, customer] = model.addVar(name=f\"x_{plant}_{customer}\", vtype=GRB.CONTINUOUS)\n",
        "\n",
        "# Objective function\n",
        "model.setObjective(gp.quicksum((production_costs[plant][customer-1] + transportation_costs[plant][customer-1]) * x[plant, customer]\n",
        "                                for plant in plants for customer in customers), GRB.MINIMIZE)\n",
        "\n",
        "# Constraints\n",
        "for plant in plants:\n",
        "    model.addConstr(gp.quicksum(x[plant, customer] for customer in customers) <= capacities[plant], name=f\"capacity_{plant}\")\n",
        "\n",
        "for customer, demand in zip(customers, demands):\n",
        "    model.addConstr(gp.quicksum(x[plant, customer] for plant in plants) == demand, name=f\"demand_{customer}\")\n",
        "\n",
        "# Optimize the model\n",
        "model.optimize()\n",
        "\n",
        "# Print the optimal solution\n",
        "if model.status == GRB.OPTIMAL:\n",
        "    print(\"Optimal solution found!\")\n",
        "    for plant in plants:\n",
        "        for customer in customers:\n",
        "            print(f\"Units from {plant} to customer {customer}: {x[plant, customer].x}\")\n",
        "    print(f\"Total cost: ${model.objVal}\")\n",
        "else:\n",
        "    print(\"Optimization did not converge.\")\n"
      ],
      "metadata": {
        "colab": {
          "base_uri": "https://localhost:8080/"
        },
        "id": "CPErFedZlDQO",
        "outputId": "4b1f49e9-5a77-4fd4-bba1-4202351f4f36"
      },
      "execution_count": null,
      "outputs": [
        {
          "output_type": "stream",
          "name": "stdout",
          "text": [
            "Gurobi Optimizer version 11.0.0 build v11.0.0rc2 (linux64 - \"Ubuntu 22.04.3 LTS\")\n",
            "\n",
            "CPU model: Intel(R) Xeon(R) CPU @ 2.20GHz, instruction set [SSE2|AVX|AVX2]\n",
            "Thread count: 1 physical cores, 2 logical processors, using up to 2 threads\n",
            "\n",
            "Optimize a model with 7 rows, 10 columns and 20 nonzeros\n",
            "Model fingerprint: 0x975f3941\n",
            "Coefficient statistics:\n",
            "  Matrix range     [1e+00, 1e+00]\n",
            "  Objective range  [4e+00, 1e+01]\n",
            "  Bounds range     [0e+00, 0e+00]\n",
            "  RHS range        [5e+01, 2e+02]\n",
            "Presolve removed 6 rows and 7 columns\n",
            "Presolve time: 0.01s\n",
            "Presolved: 1 rows, 4 columns, 4 nonzeros\n",
            "\n",
            "Iteration    Objective       Primal Inf.    Dual Inf.      Time\n",
            "       0    3.0200000e+03   7.500000e+00   0.000000e+00      0s\n",
            "       1    3.1200000e+03   0.000000e+00   0.000000e+00      0s\n",
            "\n",
            "Solved in 1 iterations and 0.02 seconds (0.00 work units)\n",
            "Optimal objective  3.120000000e+03\n",
            "Optimal solution found!\n",
            "Units from Amherst to customer 1: 60.0\n",
            "Units from Amherst to customer 2: 0.0\n",
            "Units from Amherst to customer 3: 60.0\n",
            "Units from Amherst to customer 4: 0.0\n",
            "Units from Amherst to customer 5: 80.0\n",
            "Units from Providence to customer 1: 0.0\n",
            "Units from Providence to customer 2: 100.0\n",
            "Units from Providence to customer 3: 50.0\n",
            "Units from Providence to customer 4: 50.0\n",
            "Units from Providence to customer 5: 0.0\n",
            "Total cost: $3120.0\n"
          ]
        }
      ]
    },
    {
      "cell_type": "markdown",
      "source": [],
      "metadata": {
        "id": "NbhPCHFHkh0A"
      }
    },
    {
      "cell_type": "markdown",
      "source": [
        "Units from Amherst to customer 1: 60.0\n",
        "\n",
        "Units from Amherst to customer 2: 0.0\n",
        "\n",
        "Units from Amherst to customer 3: 60.0\n",
        "\n",
        "Units from Amherst to customer 4: 0.0\n",
        "\n",
        "Units from Amherst to customer 5: 80.0\n",
        "\n",
        "Units from Providence to customer 1: 0.0\n",
        "\n",
        "Units from Providence to customer 2: 100.0\n",
        "\n",
        "Units from Providence to customer 3: 50.0\n",
        "\n",
        "Units from Providence to customer 4: 50.0\n",
        "\n",
        "Units from Providence to customer 5: 0.0\n",
        "Total cost: $3120.0"
      ],
      "metadata": {
        "id": "DSCyJgK4kofU"
      }
    }
  ]
}